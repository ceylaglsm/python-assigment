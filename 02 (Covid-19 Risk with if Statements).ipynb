{
 "cells": [
  {
   "cell_type": "code",
   "execution_count": 13,
   "metadata": {},
   "outputs": [
    {
     "name": "stdout",
     "output_type": "stream",
     "text": [
      "You are not in risk group\n"
     ]
    }
   ],
   "source": [
    "age = input(\"Are you a cigarette addict older than 75 years old?('yes os no)\")\n",
    "\n",
    "if age == \"yes\":\n",
    "    age = True\n",
    "else:\n",
    "    age = False\n",
    "\n",
    "chronic = input(\"Do you have a severe chronic disease?(yes or no)\")\n",
    "\n",
    "if chronic == \"yes\":\n",
    "    chronic = True\n",
    "else:\n",
    "    chronic = False\n",
    "immune = input(\"Is your immune system too weak?(yes or no)\")\n",
    "\n",
    "if immune == \"yes\":\n",
    "    immune = True\n",
    "else:\n",
    "    immune = False\n",
    "\n",
    "risk = age and chronic and immune\n",
    "if risk == True:\n",
    "    print(\"You are in risky group\")\n",
    "elif risk == False:\n",
    "    print(\"You are not in risk group\")\n"
   ]
  }
 ],
 "metadata": {
  "interpreter": {
   "hash": "38d51dd8e8d25c2b4859ddf5fde4d8615b38902fd48d30a19bf46ddb81d406a6"
  },
  "kernelspec": {
   "display_name": "Python 3.9.10 64-bit (windows store)",
   "language": "python",
   "name": "python3"
  },
  "language_info": {
   "codemirror_mode": {
    "name": "ipython",
    "version": 3
   },
   "file_extension": ".py",
   "mimetype": "text/x-python",
   "name": "python",
   "nbconvert_exporter": "python",
   "pygments_lexer": "ipython3",
   "version": "3.9.10"
  },
  "orig_nbformat": 4
 },
 "nbformat": 4,
 "nbformat_minor": 2
}

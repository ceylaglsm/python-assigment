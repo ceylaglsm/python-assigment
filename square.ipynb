{
 "cells": [
  {
   "cell_type": "markdown",
   "id": "e6ea9632",
   "metadata": {},
   "source": [
    "###### With a given integral number n, write a program to generate a dictionary that contains (i, i*i)\n",
    "such that is an integral number between 1 and n (both included).\n",
    "and then the program shouldprint the dictionary.Suppose the following input is supplied to the program:\n",
    "8Then, the outputshould be:\n",
    "{1: 1, 2: 4, 3: 9, 4: 16, 5: 25, 6: 36, 7: 49, 8: 64}"
   ]
  },
  {
   "cell_type": "code",
   "execution_count": null,
   "id": "c5bb7e59",
   "metadata": {},
   "outputs": [],
   "source": [
    "n = int(input(\"please a number: \"))\n",
    "square = {}\n",
    "for i in range(1,n+1):\n",
    "    square[i]=i*i\n",
    "print(square)"
   ]
  }
 ],
 "metadata": {
  "kernelspec": {
   "display_name": "Python 3 (ipykernel)",
   "language": "python",
   "name": "python3"
  },
  "language_info": {
   "codemirror_mode": {
    "name": "ipython",
    "version": 3
   },
   "file_extension": ".py",
   "mimetype": "text/x-python",
   "name": "python",
   "nbconvert_exporter": "python",
   "pygments_lexer": "ipython3",
   "version": "3.9.7"
  }
 },
 "nbformat": 4,
 "nbformat_minor": 5
}
